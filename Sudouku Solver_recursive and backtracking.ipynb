{
 "cells": [
  {
   "cell_type": "code",
   "execution_count": 85,
   "metadata": {},
   "outputs": [],
   "source": [
    "board = [\n",
    "    [7,8,0,4,0,0,1,2,0],\n",
    "    [6,0,0,0,7,5,0,0,9],\n",
    "    [0,0,0,6,0,1,0,7,8],\n",
    "    [0,0,7,0,4,0,2,6,0],\n",
    "    [0,0,1,0,5,0,9,3,0],\n",
    "    [9,0,4,0,6,0,0,0,5],\n",
    "    [0,7,0,3,0,0,0,1,2],\n",
    "    [1,2,0,0,0,7,4,0,0],\n",
    "    [0,4,9,2,0,6,0,0,7]\n",
    "]\n",
    "\n",
    "\n",
    "def solve(bo):    \n",
    "    next_pos = find_empty(bo)   \n",
    "    if find_empty(bo) is None:\n",
    "        return True   # use a boolen to stop the recursion\n",
    "    else:    \n",
    "        pos_x, pos_y = next_pos\n",
    "    for num in range(1,10):\n",
    "        if valid(bo, num, next_pos):\n",
    "            bo[pos_x][pos_y] = num\n",
    "            if solve(bo):\n",
    "                return True\n",
    "            else:    \n",
    "                bo[pos_x][pos_y] = 0\n",
    "    return False\n",
    "\n",
    "\n",
    "def valid(bo, num, pos):  # pos: (i,j) row, col\n",
    "    # check row\n",
    "    for j in range(len(bo[pos[0]])):\n",
    "        if num == bo[pos[0]][j] and j != pos[1]:\n",
    "            return False\n",
    "    # check col\n",
    "    for i in range(len(bo[pos[1]])):\n",
    "        if num == bo[i][pos[1]] and i != pos[0]:\n",
    "            return False\n",
    "    # check cube, which box //3\n",
    "    box_x = pos[0] // 3\n",
    "    box_y = pos[1] // 3\n",
    "    index_x = 3 * box_x\n",
    "    index_y = 3 * box_y\n",
    "    for i in range(index_x, index_x+3):\n",
    "        for j in range(index_y, index_y+3):\n",
    "            if num == bo[i][j] and pos != (i,j):\n",
    "                return False \n",
    "    return True\n",
    "\n",
    "\n",
    "def print_board(bo):\n",
    "    for i in range(len(bo)):\n",
    "        if i % 3 == 0 and i != 0:\n",
    "            print(\"- - - - - - - - - - - - - \")\n",
    "\n",
    "        for j in range(len(bo[0])):\n",
    "            if j % 3 == 0 and j != 0:\n",
    "                print(\" | \", end=\"\")\n",
    "\n",
    "            if j == 8:  # change line\n",
    "                print(bo[i][j])\n",
    "            else:\n",
    "                print(str(bo[i][j]) + \" \", end=\"\")\n",
    "\n",
    "\n",
    "def find_empty(bo):\n",
    "    for i in range(len(bo)):\n",
    "        for j in range(len(bo[0])):\n",
    "            if bo[i][j] == 0:\n",
    "                return i, j  # row, col\n",
    "\n",
    "    return None\n"
   ]
  },
  {
   "cell_type": "code",
   "execution_count": 86,
   "metadata": {},
   "outputs": [
    {
     "data": {
      "text/plain": [
       "[[7, 8, 0, 4, 0, 0, 1, 2, 0],\n",
       " [6, 0, 0, 0, 7, 5, 0, 0, 9],\n",
       " [0, 0, 0, 6, 0, 1, 0, 7, 8],\n",
       " [0, 0, 7, 0, 4, 0, 2, 6, 0],\n",
       " [0, 0, 1, 0, 5, 0, 9, 3, 0],\n",
       " [9, 0, 4, 0, 6, 0, 0, 0, 5],\n",
       " [0, 7, 0, 3, 0, 0, 0, 1, 2],\n",
       " [1, 2, 0, 0, 0, 7, 4, 0, 0],\n",
       " [0, 4, 9, 2, 0, 6, 0, 0, 7]]"
      ]
     },
     "execution_count": 86,
     "metadata": {},
     "output_type": "execute_result"
    }
   ],
   "source": [
    "board"
   ]
  },
  {
   "cell_type": "code",
   "execution_count": 87,
   "metadata": {},
   "outputs": [
    {
     "data": {
      "text/plain": [
       "True"
      ]
     },
     "execution_count": 87,
     "metadata": {},
     "output_type": "execute_result"
    }
   ],
   "source": [
    "solve(board)"
   ]
  },
  {
   "cell_type": "code",
   "execution_count": 88,
   "metadata": {},
   "outputs": [
    {
     "data": {
      "text/plain": [
       "[[7, 8, 5, 4, 3, 9, 1, 2, 6],\n",
       " [6, 1, 2, 8, 7, 5, 3, 4, 9],\n",
       " [4, 9, 3, 6, 2, 1, 5, 7, 8],\n",
       " [8, 5, 7, 9, 4, 3, 2, 6, 1],\n",
       " [2, 6, 1, 7, 5, 8, 9, 3, 4],\n",
       " [9, 3, 4, 1, 6, 2, 7, 8, 5],\n",
       " [5, 7, 8, 3, 9, 4, 6, 1, 2],\n",
       " [1, 2, 6, 5, 8, 7, 4, 9, 3],\n",
       " [3, 4, 9, 2, 1, 6, 8, 5, 7]]"
      ]
     },
     "execution_count": 88,
     "metadata": {},
     "output_type": "execute_result"
    }
   ],
   "source": [
    "board"
   ]
  },
  {
   "cell_type": "code",
   "execution_count": null,
   "metadata": {},
   "outputs": [],
   "source": []
  }
 ],
 "metadata": {
  "kernelspec": {
   "display_name": "Python 3",
   "language": "python",
   "name": "python3"
  },
  "language_info": {
   "codemirror_mode": {
    "name": "ipython",
    "version": 3
   },
   "file_extension": ".py",
   "mimetype": "text/x-python",
   "name": "python",
   "nbconvert_exporter": "python",
   "pygments_lexer": "ipython3",
   "version": "3.7.6"
  }
 },
 "nbformat": 4,
 "nbformat_minor": 4
}
