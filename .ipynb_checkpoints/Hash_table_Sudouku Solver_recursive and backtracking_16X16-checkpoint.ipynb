{
 "cells": [
  {
   "cell_type": "code",
   "execution_count": 273,
   "metadata": {},
   "outputs": [],
   "source": [
    "import numpy as np"
   ]
  },
  {
   "cell_type": "code",
   "execution_count": 274,
   "metadata": {},
   "outputs": [],
   "source": [
    "class Node(object):  # 16X16\n",
    "    def __init__(self, row, col, reg_num, value = 0):\n",
    "        self.value = value\n",
    "        self.row = row\n",
    "        self.col = col\n",
    "        self.reg_num = reg_num        \n",
    "\n",
    "    @staticmethod\n",
    "    def _map_region_row(number):\n",
    "        if number <= 4:\n",
    "            return 0     # start row 0,4,8,12\n",
    "        elif number <= 8:\n",
    "            return 4\n",
    "        elif number <= 12:\n",
    "            return 8\n",
    "        elif number <= 16:\n",
    "            return 12\n",
    "            \n",
    "        \n",
    "    @staticmethod    \n",
    "    def _map_region_col(number):\n",
    "        result = number % 4 \n",
    "        if result == 0:\n",
    "            result = result + 4\n",
    "        return (result-1) * 4   # 0,4,8,12    \n",
    "    \n",
    "    def _get_row(self, bo, row):\n",
    "        row_bag = set()\n",
    "        for item in bo[row]:\n",
    "            row_bag.add(item)\n",
    "        return row_bag\n",
    "    \n",
    "    def _get_col(self, bo, col):\n",
    "        col_bag = set()\n",
    "        for item in bo[:,col]:\n",
    "            col_bag.add(item)\n",
    "        return col_bag\n",
    "    \n",
    "    def _get_region(self, bo, region_number):\n",
    "        bag_of_num = set()\n",
    "        start_row = self._map_region_row(region_number)\n",
    "        start_col = self._map_region_col(region_number)\n",
    "        for i in range(start_row, start_row + 4):\n",
    "            for j in range(start_col, start_col + 4):\n",
    "                bag_of_num.add(bo[i][j])\n",
    "        return bag_of_num\n",
    "    \n",
    "    def _is_valid(self, bo):\n",
    "        condition1 = self.value in self._get_col(bo, self.col)\n",
    "        condition2 = self.value in self._get_row(bo, self.row)\n",
    "        condition3 = self.value in self._get_region(bo, self.reg_num)   \n",
    "        \n",
    "        if condition1 or condition2 or condition3:\n",
    "            return False\n",
    "        return True\n",
    "    "
   ]
  },
  {
   "cell_type": "code",
   "execution_count": 281,
   "metadata": {},
   "outputs": [],
   "source": [
    "class Board(object):\n",
    "    def __init__(self, bo):\n",
    "        self.bo = bo\n",
    "        self.len = len(bo)\n",
    "        self.done = False \n",
    "        self.record = []\n",
    "        \n",
    "    @staticmethod    \n",
    "    def _get_reg_num(row, col):\n",
    "        r1 = {0,1,2,3}\n",
    "        r2 = {4,5,6,7}\n",
    "        r3 = {8,9,10,11}\n",
    "        r4 = {12,13,14,15}\n",
    "        if row in r1:\n",
    "            if col in r1:\n",
    "                return 1\n",
    "            elif col in r2:\n",
    "                return 2\n",
    "            elif col in r3:\n",
    "                return 3\n",
    "            else:\n",
    "                return 4\n",
    "        elif row in r2:\n",
    "            if col in r1:\n",
    "                return 5\n",
    "            elif col in r2:\n",
    "                return 6\n",
    "            elif col in r3:            \n",
    "                return 7\n",
    "            else:\n",
    "                return 8\n",
    "        elif row in r3:\n",
    "            if col in r1:\n",
    "                return 9\n",
    "            elif col in r2:\n",
    "                return 10\n",
    "            elif col in r3:            \n",
    "                return 11\n",
    "            else:\n",
    "                return 12\n",
    "        else:\n",
    "            if col in r1:\n",
    "                return 13\n",
    "            elif col in r2:\n",
    "                return 14\n",
    "            elif col in r3:            \n",
    "                return 15\n",
    "            else:\n",
    "                return 16\n",
    "    \n",
    "    def solve_board(self):\n",
    "        next_pos = self.find_empty()\n",
    "        if next_pos is None:\n",
    "            return True\n",
    "        else:\n",
    "            row, col = next_pos\n",
    "            reg_num = self._get_reg_num(row, col)\n",
    "        for value in range(1,17):\n",
    "            next_node = Node(row, col, reg_num, value)\n",
    "            if next_node._is_valid(self.bo):\n",
    "                self.bo[row][col] = value\n",
    "                self.record.append((row, col))\n",
    "                if self.solve_board():\n",
    "                    return True\n",
    "                else:\n",
    "                    self.bo[row][col] = 0\n",
    "                    \n",
    "        return False            \n",
    "    \n",
    "    def find_empty(self):\n",
    "        for row in range(self.len):\n",
    "            for col in range(len(self.bo[row])):\n",
    "                if self.bo[row][col] == 0:\n",
    "                    return row, col                \n",
    "        return None\n",
    "                \n",
    "    def print_board(self):\n",
    "        for i in range(len(self.bo)):\n",
    "            if i % 4 == 0 and i != 0:\n",
    "                print(\"- - - - - - - - - - - - - \")\n",
    "\n",
    "            for j in range(len(self.bo[0])):\n",
    "                if j % 4 == 0 and j != 0:\n",
    "                    print(\" | \", end=\"\")\n",
    "\n",
    "                if j == 15:  # change line\n",
    "                    print(self.bo[i][j])\n",
    "                else:\n",
    "                    print(str(self.bo[i][j]) + \" \", end=\"\")\n",
    "                \n",
    "   "
   ]
  },
  {
   "cell_type": "code",
   "execution_count": 282,
   "metadata": {},
   "outputs": [
    {
     "name": "stdout",
     "output_type": "stream",
     "text": [
      "[[7 8 0 4 0 0 1 2 0]\n",
      " [6 0 0 0 7 5 0 0 9]\n",
      " [0 0 0 6 0 1 0 7 8]\n",
      " [0 0 7 0 4 0 2 6 0]\n",
      " [0 0 1 0 5 0 9 3 0]\n",
      " [9 0 4 0 6 0 0 0 5]\n",
      " [0 7 0 3 0 0 0 1 2]\n",
      " [1 2 0 0 0 7 4 0 0]\n",
      " [0 4 9 2 0 6 0 0 7]]\n"
     ]
    },
    {
     "data": {
      "text/plain": [
       "array([8, 0, 0, 0, 0, 0, 7, 2, 4])"
      ]
     },
     "execution_count": 282,
     "metadata": {},
     "output_type": "execute_result"
    }
   ],
   "source": [
    "board = np.array(board)\n",
    "print(board)\n",
    "board[:,1]"
   ]
  },
  {
   "cell_type": "code",
   "execution_count": 283,
   "metadata": {},
   "outputs": [
    {
     "name": "stdout",
     "output_type": "stream",
     "text": [
      "[[0 0 0 0 0 0 0 0 0 0 0 0 0 0 0 0]\n",
      " [0 0 0 0 0 0 0 0 0 0 0 0 0 0 0 0]\n",
      " [0 0 0 0 0 0 0 0 0 0 0 0 0 0 0 0]\n",
      " [0 0 0 0 0 0 0 0 0 0 0 0 0 0 0 0]\n",
      " [0 0 0 0 0 0 0 0 0 0 0 0 0 0 0 0]\n",
      " [0 0 0 0 0 0 0 0 0 0 0 0 0 0 0 0]\n",
      " [0 0 0 0 0 0 0 0 0 0 0 0 0 0 0 0]\n",
      " [0 0 0 0 0 0 0 0 0 0 0 0 0 0 0 0]\n",
      " [0 0 0 0 0 0 0 0 0 0 0 0 0 0 0 0]\n",
      " [0 0 0 0 0 0 0 0 0 0 0 0 0 0 0 0]\n",
      " [0 0 0 0 0 0 0 0 0 0 0 0 0 0 0 0]\n",
      " [0 0 0 0 0 0 0 0 0 0 0 0 0 0 0 0]\n",
      " [0 0 0 0 0 0 0 0 0 0 0 0 0 0 0 0]\n",
      " [0 0 0 0 0 0 0 0 0 0 0 0 0 0 0 0]\n",
      " [0 0 0 0 0 0 0 0 0 0 0 0 0 0 0 0]\n",
      " [0 0 0 0 0 0 0 0 0 0 0 0 0 0 0 0]]\n"
     ]
    }
   ],
   "source": [
    "s = (16,16)\n",
    "zero_board = np.zeros(s, dtype=int)\n",
    "print(zero_board)"
   ]
  },
  {
   "cell_type": "code",
   "execution_count": 284,
   "metadata": {},
   "outputs": [
    {
     "name": "stdout",
     "output_type": "stream",
     "text": [
      "1 2 3 4  | 5 6 7 8  | 9 10 11 12  | 13 14 15 16\n",
      "5 6 7 8  | 1 2 3 4  | 13 14 15 16  | 9 10 11 12\n",
      "9 10 11 12  | 13 14 15 16  | 1 2 3 4  | 5 6 7 8\n",
      "13 14 15 16  | 9 10 11 12  | 5 6 7 8  | 1 2 3 4\n",
      "- - - - - - - - - - - - - \n",
      "2 1 4 3  | 6 5 8 7  | 10 9 12 11  | 14 13 16 15\n",
      "6 5 8 7  | 2 1 4 3  | 14 13 16 15  | 10 9 12 11\n",
      "10 9 12 11  | 14 13 16 15  | 2 1 4 3  | 6 5 8 7\n",
      "14 13 16 15  | 10 9 12 11  | 6 5 8 7  | 2 1 4 3\n",
      "- - - - - - - - - - - - - \n",
      "3 4 1 2  | 7 8 5 6  | 11 12 9 10  | 15 16 13 14\n",
      "7 8 5 6  | 3 4 1 2  | 15 16 13 14  | 11 12 9 10\n",
      "11 12 9 10  | 15 16 13 14  | 3 4 1 2  | 7 8 5 6\n",
      "15 16 13 14  | 11 12 9 10  | 7 8 5 6  | 3 4 1 2\n",
      "- - - - - - - - - - - - - \n",
      "4 3 2 1  | 8 7 6 5  | 12 11 10 9  | 16 15 14 13\n",
      "8 7 6 5  | 4 3 2 1  | 16 15 14 13  | 12 11 10 9\n",
      "12 11 10 9  | 16 15 14 13  | 4 3 2 1  | 8 7 6 5\n",
      "16 15 14 13  | 12 11 10 9  | 8 7 6 5  | 4 3 2 1\n",
      "CPU times: user 93.8 ms, sys: 12 ms, total: 106 ms\n",
      "Wall time: 96.2 ms\n"
     ]
    }
   ],
   "source": [
    "%%time\n",
    "bd1 = Board(zero_board)\n",
    "bd1.solve_board()\n",
    "bd1.print_board()"
   ]
  },
  {
   "cell_type": "code",
   "execution_count": null,
   "metadata": {},
   "outputs": [],
   "source": []
  },
  {
   "cell_type": "code",
   "execution_count": null,
   "metadata": {},
   "outputs": [],
   "source": []
  },
  {
   "cell_type": "code",
   "execution_count": null,
   "metadata": {},
   "outputs": [],
   "source": []
  },
  {
   "cell_type": "code",
   "execution_count": null,
   "metadata": {},
   "outputs": [],
   "source": []
  },
  {
   "cell_type": "code",
   "execution_count": null,
   "metadata": {},
   "outputs": [],
   "source": []
  },
  {
   "cell_type": "code",
   "execution_count": null,
   "metadata": {},
   "outputs": [],
   "source": []
  },
  {
   "cell_type": "code",
   "execution_count": null,
   "metadata": {},
   "outputs": [],
   "source": []
  },
  {
   "cell_type": "code",
   "execution_count": null,
   "metadata": {},
   "outputs": [],
   "source": []
  },
  {
   "cell_type": "code",
   "execution_count": null,
   "metadata": {},
   "outputs": [],
   "source": []
  },
  {
   "cell_type": "code",
   "execution_count": 12,
   "metadata": {},
   "outputs": [
    {
     "data": {
      "text/plain": [
       "1"
      ]
     },
     "execution_count": 12,
     "metadata": {},
     "output_type": "execute_result"
    }
   ],
   "source": [
    "a = (1,2)\n",
    "a[0]"
   ]
  },
  {
   "cell_type": "code",
   "execution_count": null,
   "metadata": {},
   "outputs": [],
   "source": []
  },
  {
   "cell_type": "code",
   "execution_count": null,
   "metadata": {},
   "outputs": [],
   "source": []
  },
  {
   "cell_type": "code",
   "execution_count": 16,
   "metadata": {},
   "outputs": [
    {
     "name": "stdout",
     "output_type": "stream",
     "text": [
      "6\n",
      "7\n",
      "8\n",
      "9\n"
     ]
    }
   ],
   "source": [
    "a = 2\n",
    "for i in range(a*3, a*5):\n",
    "    print(i)"
   ]
  },
  {
   "cell_type": "code",
   "execution_count": null,
   "metadata": {},
   "outputs": [],
   "source": []
  },
  {
   "cell_type": "code",
   "execution_count": null,
   "metadata": {},
   "outputs": [],
   "source": []
  },
  {
   "cell_type": "code",
   "execution_count": null,
   "metadata": {},
   "outputs": [],
   "source": []
  },
  {
   "cell_type": "code",
   "execution_count": 7,
   "metadata": {},
   "outputs": [
    {
     "name": "stdout",
     "output_type": "stream",
     "text": [
      "True\n"
     ]
    }
   ],
   "source": [
    "a = {1,2,3}\n",
    "b = 2\n",
    "print(b in a)"
   ]
  },
  {
   "cell_type": "code",
   "execution_count": null,
   "metadata": {},
   "outputs": [],
   "source": []
  },
  {
   "cell_type": "code",
   "execution_count": 4,
   "metadata": {},
   "outputs": [
    {
     "name": "stdout",
     "output_type": "stream",
     "text": [
      "0\n",
      "1\n",
      "2\n"
     ]
    }
   ],
   "source": [
    "for i in range(0,3):\n",
    "    print(i)"
   ]
  },
  {
   "cell_type": "code",
   "execution_count": 5,
   "metadata": {},
   "outputs": [
    {
     "data": {
      "text/plain": [
       "3"
      ]
     },
     "execution_count": 5,
     "metadata": {},
     "output_type": "execute_result"
    }
   ],
   "source": [
    "abs(0-3)"
   ]
  },
  {
   "cell_type": "markdown",
   "metadata": {},
   "source": [
    "+++++++++++++++++++++++++++++++++++++++++++++++++++++++++++++++++++++"
   ]
  },
  {
   "cell_type": "code",
   "execution_count": 285,
   "metadata": {},
   "outputs": [],
   "source": [
    "board = [\n",
    "    [7,8,0,4,0,0,1,2,0],\n",
    "    [6,0,0,0,7,5,0,0,9],\n",
    "    [0,0,0,6,0,1,0,7,8],\n",
    "    [0,0,7,0,4,0,2,6,0],\n",
    "    [0,0,1,0,5,0,9,3,0],\n",
    "    [9,0,4,0,6,0,0,0,5],\n",
    "    [0,7,0,3,0,0,0,1,2],\n",
    "    [1,2,0,0,0,7,4,0,0],\n",
    "    [0,4,9,2,0,6,0,0,7]\n",
    "]\n",
    "\n",
    "board_empty = [\n",
    "    [0,0,0,0,0,0,0,0,0],\n",
    "    [0,0,0,0,0,0,0,0,0],\n",
    "    [0,0,0,0,0,0,0,0,0],\n",
    "    [0,0,0,0,0,0,0,0,0],\n",
    "    [0,0,0,0,0,0,0,0,0],\n",
    "    [0,0,0,0,0,0,0,0,0],\n",
    "    [0,0,0,0,0,0,0,0,0],\n",
    "    [0,0,0,0,0,0,0,0,0],\n",
    "    [0,0,0,0,0,0,0,0,0]\n",
    "]\n",
    "\n",
    "def solve(bo):    \n",
    "    next_pos = find_empty(bo)   \n",
    "    if find_empty(bo) is None:\n",
    "        return True   # use a boolen to stop the recursion\n",
    "    else:    \n",
    "        pos_x, pos_y = next_pos\n",
    "    for num in range(1,17):\n",
    "        if valid(bo, num, next_pos):\n",
    "            bo[pos_x][pos_y] = num\n",
    "            if solve(bo):\n",
    "                return True\n",
    "            else:    \n",
    "                bo[pos_x][pos_y] = 0\n",
    "    return False\n",
    "\n",
    "\n",
    "def valid(bo, num, pos):  # pos: (i,j) row, col\n",
    "    # check row\n",
    "    for j in range(len(bo[pos[0]])):\n",
    "        if num == bo[pos[0]][j] and j != pos[1]:\n",
    "            return False\n",
    "    # check col\n",
    "    for i in range(len(bo[pos[1]])):\n",
    "        if num == bo[i][pos[1]] and i != pos[0]:\n",
    "            return False\n",
    "    # check cube, which box //3\n",
    "    box_x = pos[0] // 4\n",
    "    box_y = pos[1] // 4\n",
    "    index_x = 4 * box_x\n",
    "    index_y = 4 * box_y\n",
    "    for i in range(index_x, index_x+4):\n",
    "        for j in range(index_y, index_y+4):\n",
    "            if num == bo[i][j] and pos != (i,j):\n",
    "                return False \n",
    "    return True\n",
    "\n",
    "\n",
    "def print_board(bo):\n",
    "    for i in range(len(bo)):\n",
    "        if i % 4 == 0 and i != 0:\n",
    "            print(\"- - - - - - - - - - - - - \")\n",
    "\n",
    "        for j in range(len(bo[0])):\n",
    "            if j % 4 == 0 and j != 0:\n",
    "                print(\" | \", end=\"\")\n",
    "\n",
    "            if j == 15:  # change line\n",
    "                print(bo[i][j])\n",
    "            else:\n",
    "                print(str(bo[i][j]) + \" \", end=\"\")\n",
    "\n",
    "\n",
    "def find_empty(bo):\n",
    "    for i in range(len(bo)):\n",
    "        for j in range(len(bo[0])):\n",
    "            if bo[i][j] == 0:\n",
    "                return i, j  # row, col\n",
    "\n",
    "    return None\n"
   ]
  },
  {
   "cell_type": "code",
   "execution_count": 286,
   "metadata": {},
   "outputs": [
    {
     "name": "stdout",
     "output_type": "stream",
     "text": [
      "[[0 0 0 0 0 0 0 0 0 0 0 0 0 0 0 0]\n",
      " [0 0 0 0 0 0 0 0 0 0 0 0 0 0 0 0]\n",
      " [0 0 0 0 0 0 0 0 0 0 0 0 0 0 0 0]\n",
      " [0 0 0 0 0 0 0 0 0 0 0 0 0 0 0 0]\n",
      " [0 0 0 0 0 0 0 0 0 0 0 0 0 0 0 0]\n",
      " [0 0 0 0 0 0 0 0 0 0 0 0 0 0 0 0]\n",
      " [0 0 0 0 0 0 0 0 0 0 0 0 0 0 0 0]\n",
      " [0 0 0 0 0 0 0 0 0 0 0 0 0 0 0 0]\n",
      " [0 0 0 0 0 0 0 0 0 0 0 0 0 0 0 0]\n",
      " [0 0 0 0 0 0 0 0 0 0 0 0 0 0 0 0]\n",
      " [0 0 0 0 0 0 0 0 0 0 0 0 0 0 0 0]\n",
      " [0 0 0 0 0 0 0 0 0 0 0 0 0 0 0 0]\n",
      " [0 0 0 0 0 0 0 0 0 0 0 0 0 0 0 0]\n",
      " [0 0 0 0 0 0 0 0 0 0 0 0 0 0 0 0]\n",
      " [0 0 0 0 0 0 0 0 0 0 0 0 0 0 0 0]\n",
      " [0 0 0 0 0 0 0 0 0 0 0 0 0 0 0 0]]\n"
     ]
    }
   ],
   "source": [
    "s = (16,16)\n",
    "zero_board = np.zeros(s, dtype=int)\n",
    "print(zero_board)"
   ]
  },
  {
   "cell_type": "code",
   "execution_count": 287,
   "metadata": {},
   "outputs": [
    {
     "name": "stdout",
     "output_type": "stream",
     "text": [
      "CPU times: user 68.5 ms, sys: 3 µs, total: 68.5 ms\n",
      "Wall time: 67.6 ms\n"
     ]
    },
    {
     "data": {
      "text/plain": [
       "True"
      ]
     },
     "execution_count": 287,
     "metadata": {},
     "output_type": "execute_result"
    }
   ],
   "source": [
    "%%time\n",
    "solve(zero_board)\n"
   ]
  },
  {
   "cell_type": "code",
   "execution_count": 270,
   "metadata": {},
   "outputs": [
    {
     "name": "stdout",
     "output_type": "stream",
     "text": [
      "1 2 3 4  | 5 6 7 8  | 9 10 11 12  | 13 14 15 16\n",
      "5 6 7 8  | 1 2 3 4  | 13 14 15 16  | 9 10 11 12\n",
      "9 10 11 12  | 13 14 15 16  | 1 2 3 4  | 5 6 7 8\n",
      "13 14 15 16  | 9 10 11 12  | 5 6 7 8  | 1 2 3 4\n",
      "- - - - - - - - - - - - - \n",
      "2 1 4 3  | 6 5 8 7  | 10 9 12 11  | 14 13 16 15\n",
      "6 5 8 7  | 2 1 4 3  | 14 13 16 15  | 10 9 12 11\n",
      "10 9 12 11  | 14 13 16 15  | 2 1 4 3  | 6 5 8 7\n",
      "14 13 16 15  | 10 9 12 11  | 6 5 8 7  | 2 1 4 3\n",
      "- - - - - - - - - - - - - \n",
      "3 4 1 2  | 7 8 5 6  | 11 12 9 10  | 15 16 13 14\n",
      "7 8 5 6  | 3 4 1 2  | 15 16 13 14  | 11 12 9 10\n",
      "11 12 9 10  | 15 16 13 14  | 3 4 1 2  | 7 8 5 6\n",
      "15 16 13 14  | 11 12 9 10  | 7 8 5 6  | 3 4 1 2\n",
      "- - - - - - - - - - - - - \n",
      "4 3 2 1  | 8 7 6 5  | 12 11 10 9  | 16 15 14 13\n",
      "8 7 6 5  | 4 3 2 1  | 16 15 14 13  | 12 11 10 9\n",
      "12 11 10 9  | 16 15 14 13  | 4 3 2 1  | 8 7 6 5\n",
      "16 15 14 13  | 12 11 10 9  | 8 7 6 5  | 4 3 2 1\n"
     ]
    }
   ],
   "source": [
    "print_board(zero_board)"
   ]
  },
  {
   "cell_type": "code",
   "execution_count": 288,
   "metadata": {},
   "outputs": [
    {
     "name": "stdout",
     "output_type": "stream",
     "text": [
      "[[0 0 0 0 0 0 0 0 0 0 0 0 0 0 0 0]\n",
      " [0 0 0 0 0 0 0 0 0 0 0 0 0 0 0 0]\n",
      " [0 0 0 0 0 0 0 0 0 0 0 0 0 0 0 0]\n",
      " [0 0 0 0 0 0 0 0 0 0 0 0 0 0 0 0]\n",
      " [0 0 0 0 0 0 0 0 0 0 0 0 0 0 0 0]\n",
      " [0 0 0 0 0 0 0 0 0 0 0 0 0 0 0 0]\n",
      " [0 0 0 0 0 0 0 0 0 0 0 0 0 0 0 0]\n",
      " [0 0 0 0 0 0 0 0 0 0 0 0 0 0 0 0]\n",
      " [0 0 0 0 0 0 0 0 0 0 0 0 0 0 0 0]\n",
      " [0 0 0 0 0 0 0 0 0 0 0 0 0 0 0 0]\n",
      " [0 0 0 0 0 0 0 0 0 0 0 0 0 0 0 0]\n",
      " [0 0 0 0 0 0 0 0 0 0 0 0 0 0 0 0]\n",
      " [0 0 0 0 0 0 0 0 0 0 0 0 0 0 0 0]\n",
      " [0 0 0 0 0 0 0 0 0 0 0 0 0 0 0 0]\n",
      " [0 0 0 0 0 0 0 0 0 0 0 0 0 0 0 0]\n",
      " [0 0 0 0 0 0 0 0 0 0 0 0 0 0 0 0]]\n"
     ]
    }
   ],
   "source": [
    "s = (16,16)\n",
    "zero_board = np.zeros(s, dtype=int)\n",
    "print(zero_board)"
   ]
  },
  {
   "cell_type": "code",
   "execution_count": 289,
   "metadata": {},
   "outputs": [
    {
     "name": "stdout",
     "output_type": "stream",
     "text": [
      "1 2 3 4  | 5 6 7 8  | 9 10 11 12  | 13 14 15 16\n",
      "5 6 7 8  | 1 2 3 4  | 13 14 15 16  | 9 10 11 12\n",
      "9 10 11 12  | 13 14 15 16  | 1 2 3 4  | 5 6 7 8\n",
      "13 14 15 16  | 9 10 11 12  | 5 6 7 8  | 1 2 3 4\n",
      "- - - - - - - - - - - - - \n",
      "2 1 4 3  | 6 5 8 7  | 10 9 12 11  | 14 13 16 15\n",
      "6 5 8 7  | 2 1 4 3  | 14 13 16 15  | 10 9 12 11\n",
      "10 9 12 11  | 14 13 16 15  | 2 1 4 3  | 6 5 8 7\n",
      "14 13 16 15  | 10 9 12 11  | 6 5 8 7  | 2 1 4 3\n",
      "- - - - - - - - - - - - - \n",
      "3 4 1 2  | 7 8 5 6  | 11 12 9 10  | 15 16 13 14\n",
      "7 8 5 6  | 3 4 1 2  | 15 16 13 14  | 11 12 9 10\n",
      "11 12 9 10  | 15 16 13 14  | 3 4 1 2  | 7 8 5 6\n",
      "15 16 13 14  | 11 12 9 10  | 7 8 5 6  | 3 4 1 2\n",
      "- - - - - - - - - - - - - \n",
      "4 3 2 1  | 8 7 6 5  | 12 11 10 9  | 16 15 14 13\n",
      "8 7 6 5  | 4 3 2 1  | 16 15 14 13  | 12 11 10 9\n",
      "12 11 10 9  | 16 15 14 13  | 4 3 2 1  | 8 7 6 5\n",
      "16 15 14 13  | 12 11 10 9  | 8 7 6 5  | 4 3 2 1\n",
      "CPU times: user 99.7 ms, sys: 4.03 ms, total: 104 ms\n",
      "Wall time: 95.8 ms\n"
     ]
    }
   ],
   "source": [
    "%%time\n",
    "bd1 = Board(zero_board)\n",
    "bd1.solve_board()\n",
    "bd1.print_board()"
   ]
  },
  {
   "cell_type": "code",
   "execution_count": null,
   "metadata": {},
   "outputs": [],
   "source": []
  }
 ],
 "metadata": {
  "kernelspec": {
   "display_name": "Python 3",
   "language": "python",
   "name": "python3"
  },
  "language_info": {
   "codemirror_mode": {
    "name": "ipython",
    "version": 3
   },
   "file_extension": ".py",
   "mimetype": "text/x-python",
   "name": "python",
   "nbconvert_exporter": "python",
   "pygments_lexer": "ipython3",
   "version": "3.7.6"
  }
 },
 "nbformat": 4,
 "nbformat_minor": 4
}
