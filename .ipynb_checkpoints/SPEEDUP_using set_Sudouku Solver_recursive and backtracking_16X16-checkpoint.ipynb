{
 "cells": [
  {
   "cell_type": "code",
   "execution_count": 79,
   "metadata": {},
   "outputs": [],
   "source": [
    "import numpy as np"
   ]
  },
  {
   "cell_type": "code",
   "execution_count": 80,
   "metadata": {},
   "outputs": [],
   "source": [
    "class Node(object):  # 16X16 \n",
    "    def __init__(self, row_bag, col_bag, reg_bag, value = 0):\n",
    "        self.value = value\n",
    "        self.row_bag = row_bag\n",
    "        self.col_bag = col_bag\n",
    "        self.reg_bag = reg_bag\n",
    "    \n",
    "    def _is_valid(self, bo):\n",
    "        condition1 = self.value in self.row_bag\n",
    "        condition2 = self.value in self.col_bag\n",
    "        condition3 = self.value in self.reg_bag  \n",
    "        \n",
    "        if condition1 or condition2 or condition3:\n",
    "            return False\n",
    "        return True\n",
    "    "
   ]
  },
  {
   "cell_type": "code",
   "execution_count": 81,
   "metadata": {},
   "outputs": [],
   "source": [
    "class Board(object):\n",
    "    def __init__(self, bo):\n",
    "        self.bo = bo\n",
    "        self.len = len(bo)\n",
    "        self.done = False\n",
    "        self.all_possible = {1,2,3,4,5,6,7,8,9,10,11,12,13,14,15,16}\n",
    "        \n",
    "    @staticmethod    \n",
    "    def _get_reg_num(row, col):  # (0,0) to (3,3)\n",
    "        start_row = (row//4) \n",
    "        start_col = (col//4)\n",
    "        return start_row, start_col        \n",
    "    \n",
    "    def _get_row(self, row):\n",
    "        row_bag = set()\n",
    "        for item in self.bo[row]:\n",
    "            row_bag.add(item)\n",
    "        return row_bag\n",
    "    \n",
    "    def _get_col(self, col):\n",
    "        col_bag = set()\n",
    "        for item in self.bo[:,col]:\n",
    "            col_bag.add(item)\n",
    "        return col_bag\n",
    "    \n",
    "    def _get_region(self, reg_x, reg_y):\n",
    "        bag_of_num = set()        \n",
    "        for i in range(reg_x * 4, reg_x * 4 + 4):\n",
    "            for j in range(reg_y * 4, reg_y * 4 + 4):\n",
    "                bag_of_num.add(self.bo[i][j])\n",
    "        return bag_of_num\n",
    "    \n",
    "    def solve_board(self):\n",
    "        next_pos = self.find_empty()\n",
    "        if next_pos is None:\n",
    "            return True\n",
    "        else:\n",
    "            row, col = next_pos\n",
    "            reg_x, reg_y = self._get_reg_num(row, col)\n",
    "            row_bag = self._get_row(row)\n",
    "            col_bag = self._get_col(col)\n",
    "            reg_bag = self._get_region(reg_x, reg_y)\n",
    "            possible_bag = self.all_possible - (row_bag|col_bag|reg_bag)\n",
    "#             print(possible_bag)\n",
    "        for index, value in enumerate(possible_bag):\n",
    "            next_node = Node(row_bag, col_bag, reg_bag, value)\n",
    "            if next_node._is_valid(self.bo):\n",
    "                self.bo[row][col] = value\n",
    "#                 print(\"add value:\", value)\n",
    "                if self.solve_board():\n",
    "                    return True\n",
    "                else:\n",
    "#                     print(\"remove:\", self.bo[row][col])\n",
    "                    self.bo[row][col] = 0\n",
    "                    \n",
    "        return False        \n",
    "\n",
    "    \n",
    "    def find_empty(self):\n",
    "        for row in range(self.len):\n",
    "            for col in range(len(self.bo[row])):\n",
    "                if self.bo[row][col] == 0:\n",
    "                    return row, col                \n",
    "        return None\n",
    "                \n",
    "    def print_board(self):\n",
    "        for i in range(len(self.bo)):\n",
    "            if i % 4 == 0 and i != 0:\n",
    "                print(\"- - - - - - - - - - - - - - - - - - - - -\")\n",
    "\n",
    "            for j in range(len(self.bo[0])):\n",
    "                if j % 4 == 0 and j != 0:\n",
    "                    print(\" | \", end=\"\")\n",
    "\n",
    "                if j == 15:  # change line\n",
    "                    print(self.bo[i][j])\n",
    "                else:\n",
    "                    print(str(self.bo[i][j]) + \" \", end=\"\")\n",
    "                \n",
    "   "
   ]
  },
  {
   "cell_type": "code",
   "execution_count": 82,
   "metadata": {},
   "outputs": [
    {
     "name": "stdout",
     "output_type": "stream",
     "text": [
      "[[ 0  0  0  0  0  0  0  0  0  0  0  0  0  0  0  0]\n",
      " [ 0  0  0  0  0  0  0  0  0  0  0  0  0  0  0  0]\n",
      " [ 0  0  0  0  0  0  0  0  0  0  0  0  0  0  0  0]\n",
      " [ 0  0  0  0  0  0  0  0  0  0  0  0  0  0  0  0]\n",
      " [ 0  0  0  0  0  0  0  0  0  0  0  0  0  0  0  0]\n",
      " [ 0  0  0  0  0  5  0  0  0  0  0  0  0  0  0  0]\n",
      " [ 0  0  0  0  0  0  0  0  0  0  0  0  0  0  0  0]\n",
      " [ 0  0  0  0  0  0  0  0  0  0  0  0  0  0  0  0]\n",
      " [ 0  0  0  0  0  0  0  0  8  0  0  0  0  0  0  0]\n",
      " [ 0  0  0  0  0  0  0  0  0  0  0  0  0  0  0  0]\n",
      " [ 0  0  0  0  0  0  0  0  0  0  0  0  0  0  0  0]\n",
      " [ 0  0  0  0  0  0  0  0  0  0  0 11  0  0  0  0]\n",
      " [ 0  0  0  0  0  0  0  0  0  0  0  0  0  0  0  0]\n",
      " [ 0  0  0  0  0  0  0  0  0  0  0  0  0  0  0  0]\n",
      " [ 0  0  0  0  0  0  0  0  0  0  0  0  0  0  0  0]\n",
      " [ 0  0  0  0  0  0  0  0  0  0  0  0  0  0  0  0]]\n"
     ]
    }
   ],
   "source": [
    "s = (16,16)\n",
    "zero_board = np.zeros(s, dtype=int)\n",
    "zero_board[5][5] = 5\n",
    "zero_board[8][8] = 8\n",
    "zero_board[11][11] = 11\n",
    "\n",
    "print(zero_board)"
   ]
  },
  {
   "cell_type": "code",
   "execution_count": 83,
   "metadata": {},
   "outputs": [
    {
     "name": "stdout",
     "output_type": "stream",
     "text": [
      "CPU times: user 2.62 s, sys: 4 ms, total: 2.63 s\n",
      "Wall time: 2.63 s\n"
     ]
    },
    {
     "data": {
      "text/plain": [
       "True"
      ]
     },
     "execution_count": 83,
     "metadata": {},
     "output_type": "execute_result"
    }
   ],
   "source": [
    "%%time\n",
    "bd1 = Board(zero_board)\n",
    "bd1.solve_board()\n",
    "# bd1.print_board()"
   ]
  },
  {
   "cell_type": "code",
   "execution_count": 84,
   "metadata": {},
   "outputs": [
    {
     "name": "stdout",
     "output_type": "stream",
     "text": [
      "1 2 3 4  | 5 6 7 8  | 9 10 11 12  | 16 13 14 15\n",
      "5 6 7 8  | 1 2 3 4  | 16 13 14 15  | 9 10 11 12\n",
      "9 10 11 12  | 16 13 14 15  | 1 2 3 4  | 8 5 6 7\n",
      "16 13 14 15  | 9 10 11 12  | 5 8 6 7  | 1 2 3 4\n",
      "- - - - - - - - - - - - - - - - - - - - -\n",
      "2 1 4 3  | 6 7 8 9  | 10 5 16 13  | 11 12 15 14\n",
      "6 7 8 9  | 2 5 1 3  | 11 12 15 14  | 10 16 4 13\n",
      "10 5 16 11  | 12 14 15 13  | 2 1 4 8  | 3 9 7 6\n",
      "12 14 15 13  | 10 16 4 11  | 3 9 7 6  | 2 8 1 5\n",
      "- - - - - - - - - - - - - - - - - - - - -\n",
      "3 4 1 2  | 7 9 5 16  | 8 15 12 10  | 6 14 13 11\n",
      "7 8 5 16  | 3 11 2 1  | 6 14 13 9  | 4 15 12 10\n",
      "11 9 10 6  | 13 15 12 14  | 4 16 1 5  | 7 3 8 2\n",
      "13 15 12 14  | 8 4 10 6  | 7 3 2 11  | 5 1 16 9\n",
      "- - - - - - - - - - - - - - - - - - - - -\n",
      "8 11 9 1  | 4 12 13 2  | 14 6 10 16  | 15 7 5 3\n",
      "4 16 13 10  | 14 8 9 7  | 15 11 5 3  | 12 6 2 1\n",
      "14 3 6 7  | 15 1 16 5  | 12 4 9 2  | 13 11 10 8\n",
      "15 12 2 5  | 11 3 6 10  | 13 7 8 1  | 14 4 9 16\n"
     ]
    }
   ],
   "source": [
    "bd1.print_board()"
   ]
  },
  {
   "cell_type": "code",
   "execution_count": 62,
   "metadata": {},
   "outputs": [
    {
     "name": "stdout",
     "output_type": "stream",
     "text": [
      "{4}\n",
      "4\n"
     ]
    }
   ],
   "source": [
    "a = {1,2,3,4}\n",
    "b = {1}\n",
    "c = {2,3}\n",
    "d = {0,1,2}\n",
    "result = a - (b|c|d)\n",
    "print(result)\n",
    "for i,value in enumerate(result):\n",
    "    print(value)"
   ]
  },
  {
   "cell_type": "code",
   "execution_count": 5,
   "metadata": {},
   "outputs": [
    {
     "name": "stdout",
     "output_type": "stream",
     "text": [
      "{1, 2, 3}\n"
     ]
    }
   ],
   "source": [
    "a = {1,2}\n",
    "b = {1,3}\n",
    "c = a|b\n",
    "print(c)"
   ]
  },
  {
   "cell_type": "code",
   "execution_count": 18,
   "metadata": {},
   "outputs": [
    {
     "name": "stdout",
     "output_type": "stream",
     "text": [
      "1\n",
      "2\n",
      "3\n",
      "4\n",
      "5\n",
      "6\n",
      "7\n",
      "8\n",
      "9\n",
      "10\n",
      "11\n",
      "12\n",
      "13\n",
      "14\n",
      "15\n",
      "16\n"
     ]
    }
   ],
   "source": [
    "a = {1, 2, 3, 4, 5, 6, 7, 8, 9, 10, 11, 12, 13, 14, 15, 16}\n",
    "for index, value in enumerate(a):\n",
    "    print(value)"
   ]
  },
  {
   "cell_type": "code",
   "execution_count": null,
   "metadata": {},
   "outputs": [],
   "source": []
  },
  {
   "cell_type": "code",
   "execution_count": null,
   "metadata": {},
   "outputs": [],
   "source": []
  },
  {
   "cell_type": "code",
   "execution_count": null,
   "metadata": {},
   "outputs": [],
   "source": []
  },
  {
   "cell_type": "code",
   "execution_count": null,
   "metadata": {},
   "outputs": [],
   "source": []
  },
  {
   "cell_type": "code",
   "execution_count": null,
   "metadata": {},
   "outputs": [],
   "source": []
  },
  {
   "cell_type": "code",
   "execution_count": 12,
   "metadata": {},
   "outputs": [
    {
     "data": {
      "text/plain": [
       "1"
      ]
     },
     "execution_count": 12,
     "metadata": {},
     "output_type": "execute_result"
    }
   ],
   "source": [
    "a = (1,2)\n",
    "a[0]"
   ]
  },
  {
   "cell_type": "code",
   "execution_count": null,
   "metadata": {},
   "outputs": [],
   "source": []
  },
  {
   "cell_type": "code",
   "execution_count": null,
   "metadata": {},
   "outputs": [],
   "source": []
  },
  {
   "cell_type": "code",
   "execution_count": 16,
   "metadata": {},
   "outputs": [
    {
     "name": "stdout",
     "output_type": "stream",
     "text": [
      "6\n",
      "7\n",
      "8\n",
      "9\n"
     ]
    }
   ],
   "source": [
    "a = 2\n",
    "for i in range(a*3, a*5):\n",
    "    print(i)"
   ]
  },
  {
   "cell_type": "code",
   "execution_count": null,
   "metadata": {},
   "outputs": [],
   "source": []
  },
  {
   "cell_type": "code",
   "execution_count": null,
   "metadata": {},
   "outputs": [],
   "source": []
  },
  {
   "cell_type": "code",
   "execution_count": null,
   "metadata": {},
   "outputs": [],
   "source": []
  },
  {
   "cell_type": "code",
   "execution_count": 7,
   "metadata": {},
   "outputs": [
    {
     "name": "stdout",
     "output_type": "stream",
     "text": [
      "True\n"
     ]
    }
   ],
   "source": [
    "a = {1,2,3}\n",
    "b = 2\n",
    "print(b in a)"
   ]
  },
  {
   "cell_type": "code",
   "execution_count": null,
   "metadata": {},
   "outputs": [],
   "source": []
  },
  {
   "cell_type": "code",
   "execution_count": 4,
   "metadata": {},
   "outputs": [
    {
     "name": "stdout",
     "output_type": "stream",
     "text": [
      "0\n",
      "1\n",
      "2\n"
     ]
    }
   ],
   "source": [
    "for i in range(0,3):\n",
    "    print(i)"
   ]
  },
  {
   "cell_type": "code",
   "execution_count": 5,
   "metadata": {},
   "outputs": [
    {
     "data": {
      "text/plain": [
       "3"
      ]
     },
     "execution_count": 5,
     "metadata": {},
     "output_type": "execute_result"
    }
   ],
   "source": [
    "abs(0-3)"
   ]
  },
  {
   "cell_type": "markdown",
   "metadata": {},
   "source": [
    "+++++++++++++++++++++++++++++++++++++++++++++++++++++++++++++++++++++"
   ]
  },
  {
   "cell_type": "code",
   "execution_count": 73,
   "metadata": {},
   "outputs": [],
   "source": [
    "board = [\n",
    "    [7,8,0,4,0,0,1,2,0],\n",
    "    [6,0,0,0,7,5,0,0,9],\n",
    "    [0,0,0,6,0,1,0,7,8],\n",
    "    [0,0,7,0,4,0,2,6,0],\n",
    "    [0,0,1,0,5,0,9,3,0],\n",
    "    [9,0,4,0,6,0,0,0,5],\n",
    "    [0,7,0,3,0,0,0,1,2],\n",
    "    [1,2,0,0,0,7,4,0,0],\n",
    "    [0,4,9,2,0,6,0,0,7]\n",
    "]\n",
    "\n",
    "\n",
    "def solve(bo):    \n",
    "    next_pos = find_empty(bo)   \n",
    "    if find_empty(bo) is None:\n",
    "        return True   # use a boolen to stop the recursion\n",
    "    else:    \n",
    "        pos_x, pos_y = next_pos\n",
    "    for num in range(1,17):\n",
    "        if valid(bo, num, next_pos):\n",
    "            bo[pos_x][pos_y] = num\n",
    "            if solve(bo):\n",
    "                return True\n",
    "            else:    \n",
    "                bo[pos_x][pos_y] = 0\n",
    "    return False\n",
    "\n",
    "\n",
    "def valid(bo, num, pos):  # pos: (i,j) row, col\n",
    "    # check row\n",
    "    for j in range(len(bo[pos[0]])):\n",
    "        if num == bo[pos[0]][j] and j != pos[1]:\n",
    "            return False\n",
    "    # check col\n",
    "    for i in range(len(bo[pos[1]])):\n",
    "        if num == bo[i][pos[1]] and i != pos[0]:\n",
    "            return False\n",
    "    # check cube, which box //3\n",
    "    box_x = pos[0] // 4\n",
    "    box_y = pos[1] // 4\n",
    "    index_x = 4 * box_x\n",
    "    index_y = 4 * box_y\n",
    "    for i in range(index_x, index_x+4):\n",
    "        for j in range(index_y, index_y+4):\n",
    "            if num == bo[i][j] and pos != (i,j):\n",
    "                return False \n",
    "    return True\n",
    "\n",
    "\n",
    "def print_board(bo):\n",
    "    for i in range(len(bo)):\n",
    "        if i % 4 == 0 and i != 0:\n",
    "            print(\"- - - - - - - - - - - - - - - - - - - - -\")\n",
    "\n",
    "        for j in range(len(bo[0])):\n",
    "            if j % 4 == 0 and j != 0:\n",
    "                print(\" | \", end=\"\")\n",
    "\n",
    "            if j == 15:  # change line\n",
    "                print(bo[i][j])\n",
    "            else:\n",
    "                print(str(bo[i][j]) + \" \", end=\"\")\n",
    "\n",
    "\n",
    "def find_empty(bo):\n",
    "    for i in range(len(bo)):\n",
    "        for j in range(len(bo[0])):\n",
    "            if bo[i][j] == 0:\n",
    "                return i, j  # row, col\n",
    "\n",
    "    return None\n"
   ]
  },
  {
   "cell_type": "code",
   "execution_count": 77,
   "metadata": {},
   "outputs": [
    {
     "name": "stdout",
     "output_type": "stream",
     "text": [
      "[[ 0  0  0  0  0  0  0  0  0  0  0  0  0  0  0  0]\n",
      " [ 0  0  0  0  0  0  0  0  0  0  0  0  0  0  0  0]\n",
      " [ 0  0  0  0  0  0  0  0  0  0  0  0  0  0  0  0]\n",
      " [ 0  0  0  0  0  0  0  0  0  0  0  0  0  0  0  0]\n",
      " [ 0  0  0  0  0  0  0  0  0  0  0  0  0  0  0  0]\n",
      " [ 0  0  0  0  0  5  0  0  0  0  0  0  0  0  0  0]\n",
      " [ 0  0  0  0  0  0  0  0  0  0  0  0  0  0  0  0]\n",
      " [ 0  0  0  0  0  0  0  0  0  0  0  0  0  0  0  0]\n",
      " [ 0  0  0  0  0  0  0  0  8  0  0  0  0  0  0  0]\n",
      " [ 0  0  0  0  0  0  0  0  0  0  0  0  0  0  0  0]\n",
      " [ 0  0  0  0  0  0  0  0  0  0  0  0  0  0  0  0]\n",
      " [ 0  0  0  0  0  0  0  0  0  0  0 11  0  0  0  0]\n",
      " [ 0  0  0  0  0  0  0  0  0  0  0  0  0  0  0  0]\n",
      " [ 0  0  0  0  0  0  0  0  0  0  0  0  0  0  0  0]\n",
      " [ 0  0  0  0  0  0  0  0  0  0  0  0  0  0  0  0]\n",
      " [ 0  0  0  0  0  0  0  0  0  0  0  0  0  0  0  0]]\n"
     ]
    }
   ],
   "source": [
    "s = (16,16)\n",
    "zero_board = np.zeros(s, dtype=int)\n",
    "zero_board[5][5] = 5\n",
    "zero_board[8][8] = 8\n",
    "zero_board[11][11] = 11\n",
    "print(zero_board)"
   ]
  },
  {
   "cell_type": "code",
   "execution_count": 78,
   "metadata": {},
   "outputs": [
    {
     "name": "stdout",
     "output_type": "stream",
     "text": [
      "CPU times: user 11 s, sys: 0 ns, total: 11 s\n",
      "Wall time: 11 s\n"
     ]
    },
    {
     "data": {
      "text/plain": [
       "True"
      ]
     },
     "execution_count": 78,
     "metadata": {},
     "output_type": "execute_result"
    }
   ],
   "source": [
    "%%time\n",
    "solve(zero_board)\n"
   ]
  },
  {
   "cell_type": "code",
   "execution_count": 76,
   "metadata": {},
   "outputs": [
    {
     "name": "stdout",
     "output_type": "stream",
     "text": [
      "1 2 3 4  | 5 6 7 8  | 9 10 11 12  | 13 14 15 16\n",
      "5 6 7 8  | 1 2 3 4  | 13 14 15 16  | 9 10 11 12\n",
      "9 10 11 12  | 13 14 15 16  | 1 2 3 4  | 5 6 7 8\n",
      "13 14 15 16  | 9 10 11 12  | 5 6 7 8  | 1 2 3 4\n",
      "- - - - - - - - - - - - - - - - - - - - -\n",
      "2 1 4 3  | 6 7 8 9  | 10 5 12 11  | 14 13 16 15\n",
      "6 7 8 9  | 2 5 1 3  | 14 13 16 15  | 4 11 12 10\n",
      "10 5 12 11  | 14 13 16 15  | 2 1 4 3  | 6 7 8 9\n",
      "14 13 16 15  | 4 11 12 10  | 6 7 8 9  | 2 1 5 3\n",
      "- - - - - - - - - - - - - - - - - - - - -\n",
      "3 4 1 2  | 7 9 5 6  | 8 12 10 13  | 15 16 14 11\n",
      "7 8 5 6  | 3 1 2 11  | 15 16 9 14  | 10 12 4 13\n",
      "11 12 9 13  | 15 16 10 14  | 3 4 1 2  | 7 8 6 5\n",
      "15 16 10 14  | 8 12 4 13  | 7 11 5 6  | 3 9 1 2\n",
      "- - - - - - - - - - - - - - - - - - - - -\n",
      "4 3 2 1  | 11 8 6 5  | 12 9 13 7  | 16 15 10 14\n",
      "8 9 6 5  | 12 3 13 1  | 16 15 14 10  | 11 4 2 7\n",
      "12 11 13 10  | 16 15 14 7  | 4 3 2 1  | 8 5 9 6\n",
      "16 15 14 7  | 10 4 9 2  | 11 8 6 5  | 12 3 13 1\n"
     ]
    }
   ],
   "source": [
    "print_board(zero_board)"
   ]
  },
  {
   "cell_type": "code",
   "execution_count": 288,
   "metadata": {},
   "outputs": [
    {
     "name": "stdout",
     "output_type": "stream",
     "text": [
      "[[0 0 0 0 0 0 0 0 0 0 0 0 0 0 0 0]\n",
      " [0 0 0 0 0 0 0 0 0 0 0 0 0 0 0 0]\n",
      " [0 0 0 0 0 0 0 0 0 0 0 0 0 0 0 0]\n",
      " [0 0 0 0 0 0 0 0 0 0 0 0 0 0 0 0]\n",
      " [0 0 0 0 0 0 0 0 0 0 0 0 0 0 0 0]\n",
      " [0 0 0 0 0 0 0 0 0 0 0 0 0 0 0 0]\n",
      " [0 0 0 0 0 0 0 0 0 0 0 0 0 0 0 0]\n",
      " [0 0 0 0 0 0 0 0 0 0 0 0 0 0 0 0]\n",
      " [0 0 0 0 0 0 0 0 0 0 0 0 0 0 0 0]\n",
      " [0 0 0 0 0 0 0 0 0 0 0 0 0 0 0 0]\n",
      " [0 0 0 0 0 0 0 0 0 0 0 0 0 0 0 0]\n",
      " [0 0 0 0 0 0 0 0 0 0 0 0 0 0 0 0]\n",
      " [0 0 0 0 0 0 0 0 0 0 0 0 0 0 0 0]\n",
      " [0 0 0 0 0 0 0 0 0 0 0 0 0 0 0 0]\n",
      " [0 0 0 0 0 0 0 0 0 0 0 0 0 0 0 0]\n",
      " [0 0 0 0 0 0 0 0 0 0 0 0 0 0 0 0]]\n"
     ]
    }
   ],
   "source": [
    "s = (16,16)\n",
    "zero_board = np.zeros(s, dtype=int)\n",
    "print(zero_board)"
   ]
  },
  {
   "cell_type": "code",
   "execution_count": 289,
   "metadata": {},
   "outputs": [
    {
     "name": "stdout",
     "output_type": "stream",
     "text": [
      "1 2 3 4  | 5 6 7 8  | 9 10 11 12  | 13 14 15 16\n",
      "5 6 7 8  | 1 2 3 4  | 13 14 15 16  | 9 10 11 12\n",
      "9 10 11 12  | 13 14 15 16  | 1 2 3 4  | 5 6 7 8\n",
      "13 14 15 16  | 9 10 11 12  | 5 6 7 8  | 1 2 3 4\n",
      "- - - - - - - - - - - - - \n",
      "2 1 4 3  | 6 5 8 7  | 10 9 12 11  | 14 13 16 15\n",
      "6 5 8 7  | 2 1 4 3  | 14 13 16 15  | 10 9 12 11\n",
      "10 9 12 11  | 14 13 16 15  | 2 1 4 3  | 6 5 8 7\n",
      "14 13 16 15  | 10 9 12 11  | 6 5 8 7  | 2 1 4 3\n",
      "- - - - - - - - - - - - - \n",
      "3 4 1 2  | 7 8 5 6  | 11 12 9 10  | 15 16 13 14\n",
      "7 8 5 6  | 3 4 1 2  | 15 16 13 14  | 11 12 9 10\n",
      "11 12 9 10  | 15 16 13 14  | 3 4 1 2  | 7 8 5 6\n",
      "15 16 13 14  | 11 12 9 10  | 7 8 5 6  | 3 4 1 2\n",
      "- - - - - - - - - - - - - \n",
      "4 3 2 1  | 8 7 6 5  | 12 11 10 9  | 16 15 14 13\n",
      "8 7 6 5  | 4 3 2 1  | 16 15 14 13  | 12 11 10 9\n",
      "12 11 10 9  | 16 15 14 13  | 4 3 2 1  | 8 7 6 5\n",
      "16 15 14 13  | 12 11 10 9  | 8 7 6 5  | 4 3 2 1\n",
      "CPU times: user 99.7 ms, sys: 4.03 ms, total: 104 ms\n",
      "Wall time: 95.8 ms\n"
     ]
    }
   ],
   "source": [
    "%%time\n",
    "bd1 = Board(zero_board)\n",
    "bd1.solve_board()\n",
    "bd1.print_board()"
   ]
  },
  {
   "cell_type": "code",
   "execution_count": null,
   "metadata": {},
   "outputs": [],
   "source": []
  }
 ],
 "metadata": {
  "kernelspec": {
   "display_name": "Python 3",
   "language": "python",
   "name": "python3"
  },
  "language_info": {
   "codemirror_mode": {
    "name": "ipython",
    "version": 3
   },
   "file_extension": ".py",
   "mimetype": "text/x-python",
   "name": "python",
   "nbconvert_exporter": "python",
   "pygments_lexer": "ipython3",
   "version": "3.7.6"
  }
 },
 "nbformat": 4,
 "nbformat_minor": 4
}
